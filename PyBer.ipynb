{
 "cells": [
  {
   "cell_type": "code",
   "execution_count": 1,
   "id": "1604fc51-2743-4c2f-a608-ee258645028f",
   "metadata": {},
   "outputs": [],
   "source": [
    "# Add Matplotlib inline magic command\n",
    "%matplotlib inline\n",
    "# Dependencies and Setup\n",
    "import matplotlib.pyplot as plt\n",
    "import pandas as pd"
   ]
  },
  {
   "cell_type": "code",
   "execution_count": 2,
   "id": "d4546bb9-aa91-4966-b02e-dcbf0a010004",
   "metadata": {},
   "outputs": [],
   "source": [
    "# Files to load\n",
    "city_data_to_load = \"Resources/city_data.csv\"\n",
    "ride_data_to_load = \"Resources/ride_data.csv\""
   ]
  },
  {
   "cell_type": "code",
   "execution_count": 5,
   "id": "6343eff4-cca0-4dcd-a81d-d3fd58513167",
   "metadata": {},
   "outputs": [],
   "source": [
    "# Read the city and ride data files and store in pandas DataFrame.\n",
    "city_data_df = pd.read_csv(city_data_to_load)\n",
    "ride_data_df = pd.read_csv(ride_data_to_load)"
   ]
  },
  {
   "cell_type": "code",
   "execution_count": 22,
   "id": "1a4c9110-d20b-4134-8fe9-84803e063472",
   "metadata": {},
   "outputs": [
    {
     "name": "stdout",
     "output_type": "stream",
     "text": [
      "count: \n",
      " city            120\n",
      "driver_count    120\n",
      "type            120\n",
      "dtype: int64 \n",
      "\n",
      "not null: \n",
      " city            0\n",
      "driver_count    0\n",
      "type            0\n",
      "dtype: int64 \n",
      "\n",
      "dtypes: \n",
      " city            object\n",
      "driver_count     int64\n",
      "type            object\n",
      "dtype: object \n",
      "\n"
     ]
    }
   ],
   "source": [
    "# Get the columns and the rows that are not null.\n",
    "print(\"count: \\n\", city_data_df.count(),  \"\\n\")\n",
    "\n",
    "# Get the columns and the rows that are not null.\n",
    "print(\"not null: \\n\", city_data_df.isnull().sum(),  \"\\n\")\n",
    "\n",
    "# Get the data types of each column.\n",
    "print(\"dtypes: \\n\", city_data_df.dtypes,  \"\\n\")"
   ]
  },
  {
   "cell_type": "code",
   "execution_count": 25,
   "id": "02222397-88a4-4b73-ac1f-6802c0fba992",
   "metadata": {},
   "outputs": [
    {
     "name": "stdout",
     "output_type": "stream",
     "text": [
      "['Urban' 'Suburban' 'Rural']\n",
      "urban: 66\n",
      "suburban: 36\n",
      "rural: 18\n"
     ]
    }
   ],
   "source": [
    "# Get the unique values of the type of city.\n",
    "print(city_data_df[\"type\"].unique())\n",
    "# Get the number of data points from the Urban cities.\n",
    "print(\"urban:\", sum(city_data_df[\"type\"]==\"Urban\"))\n",
    "print(\"suburban:\", sum(city_data_df[\"type\"]==\"Suburban\"))\n",
    "print(\"rural:\", sum(city_data_df[\"type\"]==\"Rural\"))"
   ]
  },
  {
   "cell_type": "code",
   "execution_count": 26,
   "id": "af2a3aae-a2da-4eea-980a-b6d0b4c21462",
   "metadata": {},
   "outputs": [
    {
     "name": "stdout",
     "output_type": "stream",
     "text": [
      "count: \n",
      " city       2375\n",
      "date       2375\n",
      "fare       2375\n",
      "ride_id    2375\n",
      "dtype: int64 \n",
      "\n",
      "not null: \n",
      " city       0\n",
      "date       0\n",
      "fare       0\n",
      "ride_id    0\n",
      "dtype: int64 \n",
      "\n",
      "dtypes: \n",
      " city        object\n",
      "date        object\n",
      "fare       float64\n",
      "ride_id      int64\n",
      "dtype: object \n",
      "\n"
     ]
    }
   ],
   "source": [
    "# Get the columns and the rows that are not null.\n",
    "print(\"count: \\n\", ride_data_df.count(),  \"\\n\")\n",
    "\n",
    "# Get the columns and the rows that are not null.\n",
    "print(\"not null: \\n\", ride_data_df.isnull().sum(),  \"\\n\")\n",
    "\n",
    "# Get the data types of each column.\n",
    "print(\"dtypes: \\n\", ride_data_df.dtypes,  \"\\n\")"
   ]
  },
  {
   "cell_type": "code",
   "execution_count": 27,
   "id": "95a3d212-dfa4-4776-acd6-3fec475092ea",
   "metadata": {},
   "outputs": [
    {
     "data": {
      "text/html": [
       "<div>\n",
       "<style scoped>\n",
       "    .dataframe tbody tr th:only-of-type {\n",
       "        vertical-align: middle;\n",
       "    }\n",
       "\n",
       "    .dataframe tbody tr th {\n",
       "        vertical-align: top;\n",
       "    }\n",
       "\n",
       "    .dataframe thead th {\n",
       "        text-align: right;\n",
       "    }\n",
       "</style>\n",
       "<table border=\"1\" class=\"dataframe\">\n",
       "  <thead>\n",
       "    <tr style=\"text-align: right;\">\n",
       "      <th></th>\n",
       "      <th>city</th>\n",
       "      <th>date</th>\n",
       "      <th>fare</th>\n",
       "      <th>ride_id</th>\n",
       "      <th>driver_count</th>\n",
       "      <th>type</th>\n",
       "    </tr>\n",
       "  </thead>\n",
       "  <tbody>\n",
       "    <tr>\n",
       "      <th>0</th>\n",
       "      <td>Lake Jonathanshire</td>\n",
       "      <td>2019-01-14 10:14:22</td>\n",
       "      <td>13.83</td>\n",
       "      <td>5739410935873</td>\n",
       "      <td>5</td>\n",
       "      <td>Urban</td>\n",
       "    </tr>\n",
       "    <tr>\n",
       "      <th>1</th>\n",
       "      <td>South Michelleport</td>\n",
       "      <td>2019-03-04 18:24:09</td>\n",
       "      <td>30.24</td>\n",
       "      <td>2343912425577</td>\n",
       "      <td>72</td>\n",
       "      <td>Urban</td>\n",
       "    </tr>\n",
       "    <tr>\n",
       "      <th>2</th>\n",
       "      <td>Port Samanthamouth</td>\n",
       "      <td>2019-02-24 04:29:00</td>\n",
       "      <td>33.44</td>\n",
       "      <td>2005065760003</td>\n",
       "      <td>57</td>\n",
       "      <td>Urban</td>\n",
       "    </tr>\n",
       "    <tr>\n",
       "      <th>3</th>\n",
       "      <td>Rodneyfort</td>\n",
       "      <td>2019-02-10 23:22:03</td>\n",
       "      <td>23.44</td>\n",
       "      <td>5149245426178</td>\n",
       "      <td>34</td>\n",
       "      <td>Urban</td>\n",
       "    </tr>\n",
       "    <tr>\n",
       "      <th>4</th>\n",
       "      <td>South Jack</td>\n",
       "      <td>2019-03-06 04:28:35</td>\n",
       "      <td>34.58</td>\n",
       "      <td>3908451377344</td>\n",
       "      <td>46</td>\n",
       "      <td>Urban</td>\n",
       "    </tr>\n",
       "  </tbody>\n",
       "</table>\n",
       "</div>"
      ],
      "text/plain": [
       "                 city                 date   fare        ride_id  \\\n",
       "0  Lake Jonathanshire  2019-01-14 10:14:22  13.83  5739410935873   \n",
       "1  South Michelleport  2019-03-04 18:24:09  30.24  2343912425577   \n",
       "2  Port Samanthamouth  2019-02-24 04:29:00  33.44  2005065760003   \n",
       "3          Rodneyfort  2019-02-10 23:22:03  23.44  5149245426178   \n",
       "4          South Jack  2019-03-06 04:28:35  34.58  3908451377344   \n",
       "\n",
       "   driver_count   type  \n",
       "0             5  Urban  \n",
       "1            72  Urban  \n",
       "2            57  Urban  \n",
       "3            34  Urban  \n",
       "4            46  Urban  "
      ]
     },
     "execution_count": 27,
     "metadata": {},
     "output_type": "execute_result"
    }
   ],
   "source": [
    "# Combine the data into a single dataset\n",
    "pyber_data_df = pd.merge(ride_data_df, city_data_df, how=\"left\", on=[\"city\", \"city\"])\n",
    "\n",
    "# Display the DataFrame\n",
    "pyber_data_df.head()"
   ]
  },
  {
   "cell_type": "code",
   "execution_count": null,
   "id": "13c05590-6200-4392-ad08-eb3f880b5005",
   "metadata": {},
   "outputs": [],
   "source": []
  }
 ],
 "metadata": {
  "kernelspec": {
   "display_name": "PythonData",
   "language": "python",
   "name": "pythondata"
  },
  "language_info": {
   "codemirror_mode": {
    "name": "ipython",
    "version": 3
   },
   "file_extension": ".py",
   "mimetype": "text/x-python",
   "name": "python",
   "nbconvert_exporter": "python",
   "pygments_lexer": "ipython3",
   "version": "3.7.10"
  }
 },
 "nbformat": 4,
 "nbformat_minor": 5
}
